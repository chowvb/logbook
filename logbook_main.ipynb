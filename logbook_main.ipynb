{
 "cells": [
  {
   "cell_type": "code",
   "execution_count": null,
   "id": "8c4d9f79",
   "metadata": {},
   "outputs": [
    {
     "name": "stdout",
     "output_type": "stream",
     "text": [
      "Enter path of your diary in your PC-C:\\Users\\vince\\Documents\\Python Scripts\\personal_project\\logbook_app\\Diary.txt\n",
      "Enter r or R to read your Diaryr\n",
      "2023-04-29 16:27:56.905180\n",
      "\n"
     ]
    }
   ],
   "source": [
    "import datetime\n",
    "# This module will allow us to get current date into date entry\n",
    "\n",
    "addr = input(\"Enter path of your diary in your PC-\")\n",
    "Diary = open(addr,\"a+\")\n",
    "\n",
    "# We read the contents of the diary, if we've written already\n",
    "c= input(\"Enter r or R to read your Diary\")\n",
    "if c==\"R\" or c==\"r\":\n",
    "    Diary.seek(0)\n",
    "    r=Diary.read()\n",
    "    print(r)\n",
    "\n",
    "# This section we write to the diary it self\n",
    "date = str(datetime.datetime.now())\n",
    "Diary.write(date+\"\\n\")\n",
    "d = input(\"Enter w or W to write to your diary\")\n",
    "if d==\"W\" or d==\"w\":\n",
    "    a = input(\"Input what you want into the diary: Press Enter to finish\\n\")\n",
    "    Diary.write(a+\"\\n\")\n",
    "    Diary.flush()\n",
    "    # flush() will write from budder into the file\n",
    "Diary.close()\n",
    "# close will close the object\n",
    "input(\"Enter nothing to print nothing!\")\n"
   ]
  },
  {
   "cell_type": "code",
   "execution_count": null,
   "id": "f04471e1",
   "metadata": {},
   "outputs": [],
   "source": []
  }
 ],
 "metadata": {
  "kernelspec": {
   "display_name": "Python [conda env:cameratraps-detector] *",
   "language": "python",
   "name": "conda-env-cameratraps-detector-py"
  },
  "language_info": {
   "codemirror_mode": {
    "name": "ipython",
    "version": 3
   },
   "file_extension": ".py",
   "mimetype": "text/x-python",
   "name": "python",
   "nbconvert_exporter": "python",
   "pygments_lexer": "ipython3",
   "version": "3.8.15"
  }
 },
 "nbformat": 4,
 "nbformat_minor": 5
}
